{
 "cells": [
  {
   "cell_type": "code",
   "execution_count": 4,
   "id": "793901ec158ba17d",
   "metadata": {
    "ExecuteTime": {
     "end_time": "2025-01-08T08:01:12.862313Z",
     "start_time": "2025-01-08T08:01:12.850261Z"
    }
   },
   "outputs": [],
   "source": [
    "%%capture\n",
    "\n",
    "%load_ext autoreload\n",
    "%autoreload 2\n",
    "%matplotlib inline"
   ]
  },
  {
   "cell_type": "code",
   "execution_count": 5,
   "id": "7f5d465e5159ed20",
   "metadata": {
    "ExecuteTime": {
     "end_time": "2025-01-08T08:01:13.186723Z",
     "start_time": "2025-01-08T08:01:13.162602Z"
    }
   },
   "outputs": [],
   "source": [
    "%%capture\n",
    "%set_random_seed 12"
   ]
  },
  {
   "cell_type": "markdown",
   "id": "4cd431e38e1bf961",
   "metadata": {},
   "source": [
    "# Section 1"
   ]
  },
  {
   "cell_type": "code",
   "execution_count": 6,
   "id": "89313a84",
   "metadata": {
    "ExecuteTime": {
     "end_time": "2025-01-08T08:01:13.715929Z",
     "start_time": "2025-01-08T08:01:13.699812Z"
    }
   },
   "outputs": [],
   "source": [
    "a=2"
   ]
  },
  {
   "cell_type": "markdown",
   "id": "f133cbde226921b6",
   "metadata": {},
   "source": [
    "## subsection"
   ]
  },
  {
   "cell_type": "markdown",
   "id": "5989251bc0857dfa",
   "metadata": {},
   "source": [
    "# small title"
   ]
  },
  {
   "cell_type": "code",
   "execution_count": null,
   "id": "eeee03b5d5105a5c",
   "metadata": {},
   "outputs": [],
   "source": []
  }
 ],
 "metadata": {
  "kernelspec": {
   "display_name": "bayes_training",
   "language": "python",
   "name": "bayes_training"
  },
  "language_info": {
   "codemirror_mode": {
    "name": "ipython",
    "version": 3
   },
   "file_extension": ".py",
   "mimetype": "text/x-python",
   "name": "python",
   "nbconvert_exporter": "python",
   "pygments_lexer": "ipython3",
   "version": "3.11.0"
  },
  "toc": {
   "base_numbering": 1,
   "nav_menu": {},
   "number_sections": true,
   "sideBar": true,
   "skip_h1_title": false,
   "title_cell": "Table of Contents",
   "title_sidebar": "Contents",
   "toc_cell": false,
   "toc_position": {},
   "toc_section_display": true,
   "toc_window_display": true
  }
 },
 "nbformat": 4,
 "nbformat_minor": 5
}
