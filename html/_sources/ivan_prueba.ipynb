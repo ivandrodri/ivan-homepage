{
 "cells": [
  {
   "cell_type": "code",
   "outputs": [],
   "source": [
    "%%capture\n",
    "%load_ext autoreload\n",
    "%autoreload 2\n",
    "%matplotlib inline\n",
    "%load_ext training_rl\n",
    "%set_random_seed 12"
   ],
   "metadata": {
    "collapsed": false,
    "ExecuteTime": {
     "end_time": "2024-12-29T22:18:13.501817Z",
     "start_time": "2024-12-29T22:18:12.627135Z"
    }
   },
   "id": "6ab5725944be9a61",
   "execution_count": 1
  },
  {
   "cell_type": "code",
   "outputs": [
    {
     "data": {
      "text/plain": "<IPython.core.display.HTML object>",
      "text/html": "<style>/*\nThis file is mainly copy-pasta from rise's examples\nhttps://github.com/damianavila/RISE/blob/master/examples/rise.css\n*/\n@import url('https://fonts.googleapis.com/css2?family=Work+Sans:wght@400&display=swap');\n\n\n/*\nbody {\n    font-family: 'Work Sans', sans-serif !important;\n    text-transform: initial !important;\n    letter-spacing: initial !important;\n    font-weight: 400 !important;\n    line-height: 1.5 !important;\n    text-size-adjust: 100% !important;\n    \u2011webkit\u2011text\u2011size\u2011adjust: 100% !important;\n}\n\n\n.reveal, div.text_cell_render, .md-slide, .sidebar-wrapper {\n    font-size: 1.5rem !important;\n}\n*/\n\n.navbar-default .navbar-nav > li > a {\n    color: #00747b !important;\n}\n\n.filename {\n    font-size: 2.4rem !important;\n    color: #212529 !important;\n    font-weight: 600 !important;\n}\n\n.reveal, .md-slide {\n    color: white !important;\n}\n\nh1, h2 {\n    color: #00747b !important;\n}\n\nh3, h4, h5, h6 {\n    color: #808080 !important;\n}\n\n.reveal p, .reveal ol, .reveal dl, .reveal ul,\ndiv.text_cell_render {\n    color: #212529 !important;\n}\n\n/*copied from stackoverflow, better spacing between list items*/\nli + li {\n  margin-top: 0.2em;\n}\n\nbody.rise-enabled .reveal ol, body.rise-enabled .reveal dl, body.rise-enabled .reveal ul {\n    margin-left: 0.1em;\n    margin-top: 0.2em;\n}\n\n.reveal .rendered_html h1:first-child,\n.reveal .rendered_html h2:first-child,\n.reveal .rendered_html h3:first-child,\n.reveal .rendered_html h4:first-child,\n.reveal .rendered_html h5:first-child {\n    margin-top: 0.2em;\n}\n\n/*\n.CodeMirror-lines, .output_text {\n    font-size: 1.5rem !important;\n}\n*/\n\nh1.plan, h2.plan, h3.plan {\n    text-align: center;\n    padding-bottom: 30px;\n}\n\nul.plan>li>span.plan-bold {\n    font-size: 110%;\n    padding: 4px;\n    font-weight: bold;\n    background-color: #eee;\n}\n\nul.plan>li>ul.subplan>li>span.plan-bold {\n    font-weight: bold;\n}\n\n.plan-strike {\n    opacity: 0.4;\n/*    text-decoration: line-through; */\n}\n\ndiv.plan-container {\n    display: grid;\n    grid-template-columns: 50% 50%;\n}\n\n/*\n * this is to void xarray's html output to show the fallback textual representation\n * see also\n   * xarray.md and\n   * https://github.com/damianavila/RISE/issues/594\n */\n.reveal pre.xr-text-repr-fallback {\n    display: none;\n}\n\n#toc-header, .toc-item li {\n    margin: auto !important;\n    color: #808080 !important;\n}\n\n#toc, #toc-wrapper, .toc-item-num, #toc a, .toc {\n    margin: auto !important;\n    color: #00747b !important;\n}\n\n#toc-wrapper {\n    top: auto !important;\n    bottom: auto !important;\n    margin-top: 2rem !important;\n    color: #00747b !important;\n}\n\n\n#rise-header {\n    margin: 10px;\n    left: 5%;\n}\n\n#rise-footer {\n    margin: 10px;\n    right: 5%;\n}\n\n#rise-backimage {\n    opacity: 0.70;\n}\n\n.reveal img {\n    max-width: 100%;\n}\n\n\n.md-slide.title {\n    position: relative;\n    top: -50%;\n    margin-left: 5%;\n    font-size: 4em !important;\n    line-height: 1.6;\n}\n</style>"
     },
     "execution_count": 2,
     "metadata": {},
     "output_type": "execute_result"
    }
   ],
   "source": [
    "%presentation_style"
   ],
   "metadata": {
    "collapsed": false,
    "ExecuteTime": {
     "end_time": "2024-12-29T22:18:13.509873Z",
     "start_time": "2024-12-29T22:18:13.502473Z"
    }
   },
   "id": "540b660987e8023b",
   "execution_count": 2
  },
  {
   "cell_type": "code",
   "outputs": [
    {
     "data": {
      "text/plain": "<IPython.core.display.Markdown object>",
      "text/markdown": "\n$\\newcommand{\\vect}[1]{{\\mathbf{\\boldsymbol{#1}} }}$\n$\\newcommand{\\amax}{{\\text{argmax}}}$\n$\\newcommand{\\P}{{\\mathbb{P}}}$\n$\\newcommand{\\E}{{\\mathbb{E}}}$\n$\\newcommand{\\R}{{\\mathbb{R}}}$\n$\\newcommand{\\Z}{{\\mathbb{Z}}}$\n$\\newcommand{\\N}{{\\mathbb{N}}}$\n$\\newcommand{\\C}{{\\mathbb{C}}}$\n$\\newcommand{\\abs}[1]{{ \\left| #1 \\right| }}$\n$\\newcommand{\\simpl}[1]{{\\Delta^{#1} }}$\n"
     },
     "metadata": {},
     "output_type": "display_data"
    }
   ],
   "source": [
    "%load_latex_macros"
   ],
   "metadata": {
    "collapsed": false,
    "ExecuteTime": {
     "end_time": "2024-12-29T22:18:13.520555Z",
     "start_time": "2024-12-29T22:18:13.510303Z"
    }
   },
   "id": "2b4cb8cd541d7b88",
   "execution_count": 3
  },
  {
   "cell_type": "markdown",
   "source": [
    "# Offline RL theory Test"
   ],
   "metadata": {
    "collapsed": false
   },
   "id": "8c413e30fe303594"
  },
  {
   "cell_type": "markdown",
   "source": [
    "## Main issues\n",
    "\n",
    "Can techniques from online RL, known for solving complex problems effectively, be applied to offline RL? \n",
    "\n",
    "<img src=\"_static/images/nb_94_on_policy_vs_off_policy.png\" alt=\"offline_rl\" style=\"width:60%\">\n",
    "<div class=\"slide title\"> On-policy vs. off-policy approaches.\n",
    "</div>"
   ],
   "metadata": {
    "collapsed": false
   },
   "id": "87859dfdcd5dd36c"
  },
  {
   "cell_type": "markdown",
   "source": [
    "In off-policy online RL, we use a replay buffer to store $(state, action, reward)$ data, updating it as the learned policy improves. Why not apply an off-policy algorithm, filling the replay buffer directly with collected data.\n",
    "\n",
    "<img src=\"_static/images/nb_94_off_policy_vs_offline.png\" alt=\"offline_rl\" style=\"width:70%\">\n",
    "\n",
    "**This is just a qualitative parallelism, and offline RL will work even if the data in your replay buffer is far from optimal.**\n",
    "\n",
    "**However, even though both approaches seem similar, off-policy methods won't be able to work with collected data directly.**"
   ],
   "metadata": {
    "collapsed": false
   },
   "id": "7facec160709cb8a"
  },
  {
   "cell_type": "markdown",
   "source": [
    "**A bit of review:**\n",
    "\n",
    "In particular many off-policy RL algorithms make use of the following approach:\n",
    "\n",
    "$$\n",
    "{\\hat Q}^{k+1} \\leftarrow L_1 = \\arg \\min_Q \\mathbb{E}_{(s,a,s')\\sim D} \\left[\\left( Q_\\phi(s, a) - r(s, a) - \\gamma \\mathbb{E}_{a' \\sim\\pi_\\theta(a'|s')}[Q_\\phi(s', a')] \\right)^2 \\right]  \\tag{Evaluation}\n",
    "$$\n",
    "\n",
    "$$\n",
    "\\pi_{k+1} \\leftarrow L_2 = \\arg \\max_{\\pi} \\mathbb{E}_{s\\sim D} \\left[ \\mathbb{E}_{a \\sim\\pi_\\theta(a|s)} Q^{k+1}_\\phi(s, a) \\right] \\tag{Improvement}\n",
    "$$\n",
    "\n",
    "with:\n",
    "\n",
    "$$ \n",
    "Q^\\pi(s, a) = \\mathbb{E}_\\pi \\left[ r_0 + \\gamma r_1 + \\gamma^2 r_2 + \\ldots \\mid s_0 = s, a_0 = a \\right]\n",
    "\\tag{Q-value}\n",
    "$$\n",
    "\n",
    "\n",
    "where $D$ is the replay buffer, which in the offline RL case will be filled with the collected dataset.\n",
    "\n",
    "**As seen in the (Evaluation) step, the only potential out-of-distribution (o.o.d) issue arises when computing action $a'$, as all other values ($s$, $a$, $s'$) are from the dataset $D$.**\n",
    "\n",
    "<img src=\"_static/images/nb_94_q_value.png\" alt=\"offline_rl\" style=\"height:200px;\">\n"
   ],
   "metadata": {
    "collapsed": false
   },
   "id": "9295602cfa261c01"
  },
  {
   "cell_type": "code",
   "outputs": [],
   "source": [],
   "metadata": {
    "collapsed": false
   },
   "id": "980681bcf6469580",
   "execution_count": 1
  }
 ],
 "metadata": {
  "kernelspec": {
   "display_name": "Python 3",
   "language": "python",
   "name": "python3"
  },
  "language_info": {
   "codemirror_mode": {
    "name": "ipython",
    "version": 2
   },
   "file_extension": ".py",
   "mimetype": "text/x-python",
   "name": "python",
   "nbconvert_exporter": "python",
   "pygments_lexer": "ipython2",
   "version": "2.7.6"
  }
 },
 "nbformat": 4,
 "nbformat_minor": 5
}